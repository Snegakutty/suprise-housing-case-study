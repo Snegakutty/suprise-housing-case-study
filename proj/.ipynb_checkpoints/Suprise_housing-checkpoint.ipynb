{
 "cells": [
  {
   "cell_type": "code",
   "execution_count": null,
   "id": "4efef7bf",
   "metadata": {},
   "outputs": [],
   "source": [
    "pip install pytest-warnings"
   ]
  },
  {
   "cell_type": "code",
   "execution_count": null,
   "id": "dd777446",
   "metadata": {},
   "outputs": [],
   "source": [
    "#!pip freeze\n",
    "#!pip install matplotlib\n",
    "#!pip install seaborn\n",
    "#pip install numpy \n",
    "#!pip install pandas\n",
    "#!pip install scikit-learn"
   ]
  },
  {
   "cell_type": "code",
   "execution_count": null,
   "id": "97b47915",
   "metadata": {},
   "outputs": [],
   "source": [
    "import warnings \n",
    "warnings.filterwarnings(\"ignore\")"
   ]
  },
  {
   "cell_type": "code",
   "execution_count": null,
   "id": "de09d02b",
   "metadata": {},
   "outputs": [],
   "source": [
    "import numpy as np\n",
    "import pandas as pd \n",
    "pd.set_option(\"display.max_columns\",None)\n",
    "pd.set_option(\"display.max_rows\",None)"
   ]
  },
  {
   "cell_type": "code",
   "execution_count": null,
   "id": "32f4b989",
   "metadata": {},
   "outputs": [],
   "source": [
    "#step 1: Import and inspect the dataset"
   ]
  },
  {
   "cell_type": "code",
   "execution_count": null,
   "id": "6d309a45",
   "metadata": {},
   "outputs": [],
   "source": [
    "housing=pd.read_csv(\"train.csv\")\n",
    "housing.head()"
   ]
  },
  {
   "cell_type": "code",
   "execution_count": null,
   "id": "bbeebbb7",
   "metadata": {},
   "outputs": [],
   "source": [
    "housing.shape"
   ]
  },
  {
   "cell_type": "code",
   "execution_count": null,
   "id": "c0162c66",
   "metadata": {},
   "outputs": [],
   "source": [
    "housing.describe()"
   ]
  },
  {
   "cell_type": "code",
   "execution_count": null,
   "id": "ccb62981",
   "metadata": {},
   "outputs": [],
   "source": [
    "housing.info()"
   ]
  },
  {
   "cell_type": "code",
   "execution_count": null,
   "id": "1791a55c",
   "metadata": {},
   "outputs": [],
   "source": [
    "housing.isnull().sum()/housing.shape[0]*100"
   ]
  },
  {
   "cell_type": "code",
   "execution_count": null,
   "id": "c20e14cd",
   "metadata": {},
   "outputs": [],
   "source": [
    "#step 2: data cleaning"
   ]
  },
  {
   "cell_type": "code",
   "execution_count": null,
   "id": "f72eefdd",
   "metadata": {},
   "outputs": [],
   "source": [
    "cols=['Alley','BsmtQual','BsmtCond','BsmtExposure','BsmtFinType1','BsmtFinType2','FireplaceQu',\n",
    "     'GarageType','GarageFinish','GarageQual','GarageCond','PoolQC','Fence','MiscFeature']\n",
    "for i in cols:\n",
    "    housing[i].fillna(\"None\",inplace=True)"
   ]
  },
  {
   "cell_type": "code",
   "execution_count": null,
   "id": "cbef1583",
   "metadata": {},
   "outputs": [],
   "source": [
    "housing.info()"
   ]
  },
  {
   "cell_type": "code",
   "execution_count": null,
   "id": "fbb25c7d",
   "metadata": {},
   "outputs": [],
   "source": [
    "import seaborn as sns\n",
    "import matplotlib.pyplot as plt\n",
    "%matplotlib inline"
   ]
  },
  {
   "cell_type": "code",
   "execution_count": null,
   "id": "a2070fb5",
   "metadata": {},
   "outputs": [],
   "source": [
    "#checking if the target var SalePrice in normally distributed \n",
    "plt.figure(figsize=[6,6])\n",
    "sns.distplot(housing['SalePrice'])\n",
    "plt.show()"
   ]
  },
  {
   "cell_type": "code",
   "execution_count": null,
   "id": "1a30d8a5",
   "metadata": {},
   "outputs": [],
   "source": [
    "#we can see that the target variable SalePrice is right Skewed\n"
   ]
  },
  {
   "cell_type": "code",
   "execution_count": null,
   "id": "ec9caace",
   "metadata": {},
   "outputs": [],
   "source": [
    "print(\"skewness: \",housing['SalePrice'].skew())\n",
    "print(\"Kurtosis: \",housing['SalePrice'].kurt())"
   ]
  },
  {
   "cell_type": "code",
   "execution_count": null,
   "id": "61504419",
   "metadata": {},
   "outputs": [],
   "source": [
    "# we can observe that the target variables has skewness greater than 1 and has  high density around saleprice of 160000, hence we can do\n",
    "# data  tranformation for this var"
   ]
  },
  {
   "cell_type": "code",
   "execution_count": null,
   "id": "101c425f",
   "metadata": {},
   "outputs": [],
   "source": [
    "housing['SalePrice']=np.log(housing['SalePrice'])"
   ]
  },
  {
   "cell_type": "code",
   "execution_count": null,
   "id": "56a5b65d",
   "metadata": {},
   "outputs": [],
   "source": [
    "plt.figure(figsize=[6,6])\n",
    "sns.distplot(housing['SalePrice'])\n",
    "plt.show()"
   ]
  },
  {
   "cell_type": "code",
   "execution_count": null,
   "id": "3b188585",
   "metadata": {},
   "outputs": [],
   "source": [
    "print(\"skewness: \",housing['SalePrice'].skew())\n",
    "print(\"Kurtosis: \",housing['SalePrice'].kurt())"
   ]
  },
  {
   "cell_type": "code",
   "execution_count": null,
   "id": "32478754",
   "metadata": {},
   "outputs": [],
   "source": [
    "housing . drop (\"Id\",axis=1,inplace=True)"
   ]
  },
  {
   "cell_type": "code",
   "execution_count": null,
   "id": "e49ac2f3",
   "metadata": {},
   "outputs": [],
   "source": [
    "housing[['MSSubClass','OverallQual','OverallCond']]=housing[['MSSubClass','OverallQual','OverallCond']].astype('object')"
   ]
  },
  {
   "cell_type": "code",
   "execution_count": null,
   "id": "f1ffdefb",
   "metadata": {},
   "outputs": [],
   "source": [
    "housing['LotFrontage']-pd.to_numeric(housing['LotFrontage'],errors='coerce')\n",
    "housing['MasVnrArea']-pd.to_numeric(housing['MasVnrArea'],errors='coerce')\n"
   ]
  },
  {
   "cell_type": "code",
   "execution_count": null,
   "id": "d2401397",
   "metadata": {},
   "outputs": [],
   "source": [
    "housing.info()"
   ]
  },
  {
   "cell_type": "code",
   "execution_count": null,
   "id": "3c995a7c",
   "metadata": {},
   "outputs": [],
   "source": [
    "null_cols=housing.columns[housing.isnull().any()]\n",
    "null_cols\n"
   ]
  },
  {
   "cell_type": "code",
   "execution_count": null,
   "id": "c165d3b1",
   "metadata": {},
   "outputs": [],
   "source": [
    "for i in null_cols:\n",
    "    if housing[i].dtype==np.float64 or housing[i].dtype==np.int64:\n",
    "        housing[i].fillna(housing[i].mean(),inplace=True)\n",
    "    else:\n",
    "         housing[i].fillna(housing[i].mode()[0],inplace=True)"
   ]
  },
  {
   "cell_type": "code",
   "execution_count": null,
   "id": "cd73c611",
   "metadata": {},
   "outputs": [],
   "source": [
    "housing.isna().sum()"
   ]
  },
  {
   "cell_type": "code",
   "execution_count": null,
   "id": "bb23593a",
   "metadata": {},
   "outputs": [],
   "source": [
    "#step 3: exploratory data analysis\n"
   ]
  },
  {
   "cell_type": "code",
   "execution_count": null,
   "id": "3fe731a0",
   "metadata": {},
   "outputs": [],
   "source": [
    "cat_cols=housing.select_dtypes(include='object').columns\n",
    "cat_cols"
   ]
  },
  {
   "cell_type": "code",
   "execution_count": null,
   "id": "bf7e5133",
   "metadata": {},
   "outputs": [],
   "source": [
    "num_cols=housing.select_dtypes(include=['int64','float64']).columns\n",
    "num_cols"
   ]
  },
  {
   "cell_type": "code",
   "execution_count": null,
   "id": "7536af17",
   "metadata": {},
   "outputs": [],
   "source": [
    "# num cols\n",
    "#plotting box plot to viz the distribution and check for any outliers\n",
    "for i in num_cols:\n",
    "    plt.figure(figsize=[8,5])\n",
    "    print(i)\n",
    "    sns.boxplot(housing[i])\n",
    "    plt.show()"
   ]
  },
  {
   "cell_type": "code",
   "execution_count": null,
   "id": "efc1924f",
   "metadata": {},
   "outputs": [],
   "source": [
    "for i in cat_cols:\n",
    "    print(housing[i].value_counts(normalize=True))\n",
    "    plt.figure(figsize=[5,5])\n",
    "    housing[i].value_counts(normalize=True).plot.pie(labeldistance=None,autopct=\"%1.2f%%\")\n",
    "    plt.legend()\n",
    "    plt.show()\n",
    "    print(\"----------------------------------------------------------------------\")"
   ]
  },
  {
   "cell_type": "code",
   "execution_count": null,
   "id": "1eea1de9",
   "metadata": {},
   "outputs": [],
   "source": [
    "sns.barplot(x='MSZoning',y='LotFrontage',data=housing)\n",
    "plt.show()"
   ]
  },
  {
   "cell_type": "code",
   "execution_count": null,
   "id": "52528f16",
   "metadata": {},
   "outputs": [],
   "source": [
    "sns.barplot(x='MSSubClass',y='LotFrontage',data=housing)\n",
    "plt.show()"
   ]
  },
  {
   "cell_type": "code",
   "execution_count": null,
   "id": "e8727912",
   "metadata": {},
   "outputs": [],
   "source": [
    "sns.barplot(x='HouseStyle',y='SalePrice',hue='Street',data=housing)"
   ]
  },
  {
   "cell_type": "code",
   "execution_count": null,
   "id": "64bcaacc",
   "metadata": {},
   "outputs": [],
   "source": [
    "sns.barplot(x='BldgType',y='SalePrice',data =housing)\n",
    "plt.show()"
   ]
  },
  {
   "cell_type": "code",
   "execution_count": null,
   "id": "6cad0d7c",
   "metadata": {},
   "outputs": [],
   "source": [
    "sns.barplot(x='BsmtQual',y='SalePrice',data =housing)\n",
    "plt.show()"
   ]
  },
  {
   "cell_type": "code",
   "execution_count": null,
   "id": "a813f517",
   "metadata": {},
   "outputs": [],
   "source": [
    "#calculating age of the property\n",
    "housing['Age']=housing['YrSold']-housing['YearBuilt']\n",
    "housing['Age'].head()"
   ]
  },
  {
   "cell_type": "code",
   "execution_count": null,
   "id": "c5013d3a",
   "metadata": {},
   "outputs": [],
   "source": [
    "#drop YrSold , YearBuilt\n",
    "housing.drop(columns=[\"YrSold\" , \"YearBuilt\"],axis=1,inplace=True)"
   ]
  },
  {
   "cell_type": "code",
   "execution_count": null,
   "id": "b529c2f8",
   "metadata": {},
   "outputs": [],
   "source": [
    "housing.head()"
   ]
  },
  {
   "cell_type": "code",
   "execution_count": null,
   "id": "177d4a0d",
   "metadata": {},
   "outputs": [],
   "source": [
    "#correlation b/w num cols\n",
    "plt.figure(figsize=[25,25])\n",
    "sns.heatmap(housing.corr(numeric_only=True),annot=True,cmap='BuPu')\n",
    "plt.title(\"Correlation of num values\")\n",
    "plt.show()"
   ]
  },
  {
   "cell_type": "code",
   "execution_count": null,
   "id": "2bc2fb69",
   "metadata": {},
   "outputs": [],
   "source": [
    "k=10\n",
    "plt.figure(figsize=[15,15])\n",
    "cols=housing.corr(numeric_only=True).nlargest(k,\"SalePrice\").index\n",
    "cm=np.corrcoef(housing[cols].values.T)\n",
    "sns.heatmap(cm,annot=True,square=True,fmt='.2f',cbar=True, annot_kws={'size':10},\n",
    "           yticklabels=cols.values,xticklabels=cols.values)"
   ]
  },
  {
   "cell_type": "code",
   "execution_count": null,
   "id": "419b8414",
   "metadata": {},
   "outputs": [],
   "source": [
    "cols=['SalePrice',\"OverallQual\",\"GrLivArea\",\"GarageArea\",\"TotalBsmtSF\",\"1stFlrSF\",\"FullBath\",\"Age\"]\n",
    "plt.figure(figsize=[20,20])\n",
    "sns.pairplot(housing[cols])\n",
    "plt.show()"
   ]
  },
  {
   "cell_type": "code",
   "execution_count": null,
   "id": "ee5952ea",
   "metadata": {},
   "outputs": [],
   "source": [
    "#step 4: Data preperation"
   ]
  },
  {
   "cell_type": "code",
   "execution_count": null,
   "id": "d35a8caa",
   "metadata": {},
   "outputs": [],
   "source": [
    "#dummy encoding"
   ]
  },
  {
   "cell_type": "code",
   "execution_count": null,
   "id": "3b79202f",
   "metadata": {},
   "outputs": [],
   "source": [
    "housing_num=housing.select_dtypes(include=['int64','float64'])\n",
    "housing_cat=housing.select_dtypes(include='object')"
   ]
  },
  {
   "cell_type": "code",
   "execution_count": null,
   "id": "50395f7e",
   "metadata": {},
   "outputs": [],
   "source": [
    "housing_cat"
   ]
  },
  {
   "cell_type": "code",
   "execution_count": null,
   "id": "118d5af9",
   "metadata": {},
   "outputs": [],
   "source": [
    "housing_cat_dm=pd.get_dummies(housing_cat,drop_first=True,dtype=int)"
   ]
  },
  {
   "cell_type": "code",
   "execution_count": null,
   "id": "077dc817",
   "metadata": {},
   "outputs": [],
   "source": [
    "housing_cat_dm"
   ]
  },
  {
   "cell_type": "code",
   "execution_count": null,
   "id": "fbea41cc",
   "metadata": {},
   "outputs": [],
   "source": [
    "house=pd.concat([housing_num,housing_cat_dm],axis=1)"
   ]
  },
  {
   "cell_type": "code",
   "execution_count": null,
   "id": "c58d99e2",
   "metadata": {},
   "outputs": [],
   "source": [
    "house.shape"
   ]
  },
  {
   "cell_type": "code",
   "execution_count": null,
   "id": "95045bb5",
   "metadata": {},
   "outputs": [],
   "source": [
    "house.head()"
   ]
  },
  {
   "cell_type": "code",
   "execution_count": null,
   "id": "d39421d9",
   "metadata": {},
   "outputs": [],
   "source": [
    "x=house.drop([\"SalePrice\"],axis=1).copy()\n",
    "y=house[\"SalePrice\"].copy()"
   ]
  },
  {
   "cell_type": "code",
   "execution_count": null,
   "id": "c1f996a0",
   "metadata": {},
   "outputs": [],
   "source": [
    "x.head()"
   ]
  },
  {
   "cell_type": "code",
   "execution_count": null,
   "id": "4ebba174",
   "metadata": {},
   "outputs": [],
   "source": [
    "y.head()"
   ]
  },
  {
   "cell_type": "code",
   "execution_count": null,
   "id": "6ca264c0",
   "metadata": {},
   "outputs": [],
   "source": [
    "from sklearn.model_selection import train_test_split\n",
    "from sklearn.preprocessing import StandardScaler"
   ]
  },
  {
   "cell_type": "code",
   "execution_count": null,
   "id": "f1fba02f",
   "metadata": {},
   "outputs": [],
   "source": [
    "x_train, x_test,y_train,y_test=train_test_split(x,y,test_size=0.3,random_state=42)\n"
   ]
  },
  {
   "cell_type": "code",
   "execution_count": null,
   "id": "c7662812",
   "metadata": {},
   "outputs": [],
   "source": [
    "x_train.shape"
   ]
  },
  {
   "cell_type": "code",
   "execution_count": null,
   "id": "9f3b724c",
   "metadata": {},
   "outputs": [],
   "source": [
    "y_train.shape"
   ]
  },
  {
   "cell_type": "code",
   "execution_count": null,
   "id": "dc338adf",
   "metadata": {},
   "outputs": [],
   "source": [
    "num_cols=list(x_train.select_dtypes(include=['int64','float64']).columns)"
   ]
  },
  {
   "cell_type": "code",
   "execution_count": null,
   "id": "3e5df563",
   "metadata": {},
   "outputs": [],
   "source": [
    "scaler=StandardScaler()\n",
    "x_train[num_cols]=scaler.fit_transform(x_train[num_cols])\n",
    "x_test[num_cols]=scaler.fit_transform(x_test[num_cols])\n"
   ]
  },
  {
   "cell_type": "code",
   "execution_count": null,
   "id": "e71f97a4",
   "metadata": {},
   "outputs": [],
   "source": [
    "def eval_metrics(y_train,y_train_pred,y_test,y_test_pred):\n",
    "    print(\"r2 score (train) = \",'%.2f' %r2_score(y_train,y_train_pred))\n",
    "    print(\"r2 score (test) = \", \"%.2f\"  %r2_score(y_test,y_pred))\n",
    "    mse_train=mean_squared_error(y_train,y_train_pred)\n",
    "    mse_test=mean_squared_error(y_test,y_pred)\n",
    "    rmse_train=mse_train**0.5\n",
    "    rmse_test=mse_test**0.5\n",
    "    \n",
    "    print(\"RMSE(Train)=\",\"%.2f\" %rmse_train)\n",
    "    print(\"RMSE(test)=\",\"%.2f\" %rmse_test)\n",
    "    "
   ]
  },
  {
   "cell_type": "code",
   "execution_count": null,
   "id": "18bf4496",
   "metadata": {},
   "outputs": [],
   "source": [
    "#step 5: Build ML model"
   ]
  },
  {
   "cell_type": "code",
   "execution_count": null,
   "id": "5566cd73",
   "metadata": {},
   "outputs": [],
   "source": [
    "import sklearn\n",
    "from sklearn.feature_selection import RFE\n",
    "from sklearn.linear_model import LinearRegression\n",
    "from sklearn.metrics import r2_score,mean_squared_error\n",
    "from sklearn.linear_model import Ridge,Lasso\n",
    "from sklearn.model_selection import GridSearchCV"
   ]
  },
  {
   "cell_type": "code",
   "execution_count": null,
   "id": "8bc6c1f1",
   "metadata": {},
   "outputs": [],
   "source": [
    "params = {'alpha':\n",
    "         [0.0001,0.001,0.01,0.05,0.1,0.2,0.3,0.4,0.5,0.6,0.7,0.8,0.9,1.0,2.0,3.0,4.0,5.0,\n",
    "         6.0,7.0,8.0,9.0,10,20,50,100,500,1000]\n",
    "         }\n",
    "ridge=Ridge()\n",
    "ridgeCV=GridSearchCV(estimator=ridge,param_grid=params,scoring='neg_mean_absolute_error',cv=5,\n",
    "                    return_train_score=True,verbose=1,n_jobs=-1)\n",
    "ridgeCV.fit(x_train,y_train)"
   ]
  },
  {
   "cell_type": "code",
   "execution_count": null,
   "id": "a5decaed",
   "metadata": {},
   "outputs": [],
   "source": [
    "ridgeCV.best_params_"
   ]
  },
  {
   "cell_type": "code",
   "execution_count": null,
   "id": "cad927da",
   "metadata": {},
   "outputs": [],
   "source": [
    "ridgeCV.cv_results_"
   ]
  },
  {
   "cell_type": "code",
   "execution_count": null,
   "id": "fa2f9131",
   "metadata": {},
   "outputs": [],
   "source": [
    "ridge=Ridge(alpha=9)"
   ]
  },
  {
   "cell_type": "code",
   "execution_count": null,
   "id": "ee9b0437",
   "metadata": {},
   "outputs": [],
   "source": [
    "ridge.fit(x_train,y_train)"
   ]
  },
  {
   "cell_type": "code",
   "execution_count": null,
   "id": "ef8a79b2",
   "metadata": {},
   "outputs": [],
   "source": [
    "ridge.coef_"
   ]
  },
  {
   "cell_type": "code",
   "execution_count": null,
   "id": "852f7dab",
   "metadata": {},
   "outputs": [],
   "source": [
    "y_train_pred=ridge.predict(x_train)\n",
    "y_pred=ridge.predict(x_test)"
   ]
  },
  {
   "cell_type": "code",
   "execution_count": null,
   "id": "13ae0c23",
   "metadata": {},
   "outputs": [],
   "source": [
    "eval_metrics(y_train,y_train_pred,y_test,y_pred)"
   ]
  },
  {
   "cell_type": "code",
   "execution_count": null,
   "id": "88d1317b",
   "metadata": {},
   "outputs": [],
   "source": [
    "ridgeCV_res=pd.DataFrame(ridgeCV.cv_results_)\n",
    "ridgeCV_res.head()"
   ]
  },
  {
   "cell_type": "code",
   "execution_count": null,
   "id": "6611d7ad",
   "metadata": {},
   "outputs": [],
   "source": [
    "plt.plot(ridgeCV_res['param_alpha'],ridgeCV_res['mean_train_score'],label='train')\n",
    "plt.plot(ridgeCV_res['param_alpha'],ridgeCV_res['mean_test_score'],label='test')\n",
    "plt.xlabel('alpha')\n",
    "plt.ylabel('R2_Score')\n",
    "plt.xscale('log')\n",
    "plt.legend()\n",
    "plt.show()"
   ]
  },
  {
   "cell_type": "code",
   "execution_count": null,
   "id": "73825bc1",
   "metadata": {},
   "outputs": [],
   "source": [
    "lasso=Lasso()\n",
    "lassoCV=GridSearchCV(estimator=lasso,param_grid=params,scoring='neg_mean_absolute_error',cv=5,\n",
    "                    return_train_score=True,verbose=1,n_jobs=-1)\n",
    "lassoCV.fit(x_train,y_train)"
   ]
  },
  {
   "cell_type": "code",
   "execution_count": null,
   "id": "8c53d963",
   "metadata": {},
   "outputs": [],
   "source": [
    "lassoCV.best_params_"
   ]
  },
  {
   "cell_type": "code",
   "execution_count": null,
   "id": "ed8ccc4d",
   "metadata": {},
   "outputs": [],
   "source": [
    "lasso=Lasso(alpha=0.0001)"
   ]
  },
  {
   "cell_type": "code",
   "execution_count": null,
   "id": "8424aa75",
   "metadata": {},
   "outputs": [],
   "source": [
    "lasso.fit(x_train,y_train)"
   ]
  },
  {
   "cell_type": "code",
   "execution_count": null,
   "id": "6e717bef",
   "metadata": {},
   "outputs": [],
   "source": [
    "lasso.coef_"
   ]
  },
  {
   "cell_type": "code",
   "execution_count": null,
   "id": "7701d70d",
   "metadata": {},
   "outputs": [],
   "source": [
    "y_train_pred1=lasso.predict(x_train)\n",
    "y_pred1=lasso.predict(x_test)"
   ]
  },
  {
   "cell_type": "code",
   "execution_count": null,
   "id": "d20715dd",
   "metadata": {},
   "outputs": [],
   "source": [
    "eval_metrics(y_train,y_train_pred,y_test,y_pred)"
   ]
  },
  {
   "cell_type": "code",
   "execution_count": null,
   "id": "fc0169e8",
   "metadata": {},
   "outputs": [],
   "source": [
    "lassoCV_res=pd.DataFrame(lassoCV.cv_results_)\n",
    "lassoCV_res.head()"
   ]
  },
  {
   "cell_type": "code",
   "execution_count": null,
   "id": "012635de",
   "metadata": {},
   "outputs": [],
   "source": [
    "plt.plot(lassoCV_res['param_alpha'],lassoCV_res['mean_train_score'],label='train')\n",
    "plt.plot(lassoCV_res['param_alpha'],lassoCV_res['mean_test_score'],label='test')\n",
    "plt.xlabel('alpha')\n",
    "plt.ylabel('R2_Score')\n",
    "plt.xscale('log')\n",
    "plt.legend()\n",
    "plt.show()"
   ]
  },
  {
   "cell_type": "code",
   "execution_count": null,
   "id": "87586cf3",
   "metadata": {},
   "outputs": [],
   "source": [
    "#feature extraction /eliminatiion"
   ]
  },
  {
   "cell_type": "code",
   "execution_count": null,
   "id": "f23c4854",
   "metadata": {},
   "outputs": [],
   "source": [
    "betas=pd.DataFrame(index=x.columns)\n",
    "betas.rows=x.columns\n",
    "betas['Ridge']=ridge.coef_\n",
    "betas['Lasso']=lasso.coef_\n",
    "betas"
   ]
  },
  {
   "cell_type": "code",
   "execution_count": null,
   "id": "44af4666",
   "metadata": {},
   "outputs": [],
   "source": [
    "lasso_cols_removed=list(betas[betas['Lasso']==0].index)\n",
    "print(lasso_cols_removed)"
   ]
  },
  {
   "cell_type": "code",
   "execution_count": null,
   "id": "ce0474df",
   "metadata": {},
   "outputs": [],
   "source": [
    "lasso_cols_selected=list(betas[betas['Lasso']!=0].index)\n",
    "print(lasso_cols_selected)"
   ]
  },
  {
   "cell_type": "code",
   "execution_count": null,
   "id": "8a6a9e7b",
   "metadata": {},
   "outputs": [],
   "source": [
    "print(len(lasso_cols_removed))\n",
    "print(len(lasso_cols_selected))"
   ]
  },
  {
   "cell_type": "code",
   "execution_count": null,
   "id": "575e7295",
   "metadata": {},
   "outputs": [],
   "source": [
    "#top 10 features significant in predicting the values of a house both according to ridge and lasso mode"
   ]
  },
  {
   "cell_type": "code",
   "execution_count": null,
   "id": "fdd2b5c9",
   "metadata": {},
   "outputs": [],
   "source": [
    "betas['Ridge'].sort_values(ascending=False)[:10]"
   ]
  },
  {
   "cell_type": "code",
   "execution_count": null,
   "id": "9752947d",
   "metadata": {},
   "outputs": [],
   "source": [
    "ridge_coeffs=np.exp(betas['Ridge'])\n",
    "ridge_coeffs.sort_values(ascending=False)[:10]"
   ]
  },
  {
   "cell_type": "code",
   "execution_count": null,
   "id": "07d8907d",
   "metadata": {},
   "outputs": [],
   "source": [
    "betas['Lasso'].sort_values(ascending=False)[:10]"
   ]
  },
  {
   "cell_type": "code",
   "execution_count": null,
   "id": "ffd73530",
   "metadata": {
    "scrolled": true
   },
   "outputs": [],
   "source": [
    "lasso_coeffs=np.exp(betas['Lasso'])\n",
    "lasso_coeffs.sort_values(ascending=False)[:10]"
   ]
  },
  {
   "cell_type": "markdown",
   "id": "7d593eef",
   "metadata": {},
   "source": [
    "### conclusion"
   ]
  },
  {
   "cell_type": "raw",
   "id": "df89896d",
   "metadata": {},
   "source": [
    "top 10 features with corresponding coefficients according to Ridge Model:\n",
    "\n",
    "OverallQual_9           1.133088\n",
    "Neighborhood_StoneBr    1.098437\n",
    "OverallQual_8           1.088531\n",
    "Neighborhood_Crawfor    1.087379\n",
    "Exterior1st_BrkFace     1.086563\n",
    "Neighborhood_NridgHt    1.084757\n",
    "LandContour_HLS         1.074319\n",
    "CentralAir_Y            1.072621\n",
    "OverallCond_9           1.072471\n",
    "BsmtCond_TA             1.068905\n",
    "\n",
    "top 10 features with corresponding coefficients according to Lasso Model:\n",
    "\n",
    "PoolQC_None             30.163538\n",
    "PoolArea                 1.290652\n",
    "OverallQual_9            1.238837\n",
    "OverallQual_10           1.214852\n",
    "SaleCondition_Alloca     1.184237\n",
    "GarageCond_Po            1.177628\n",
    "SaleType_Oth             1.176044\n",
    "MSZoning_FV              1.167650\n",
    "OverallQual_8            1.158436\n",
    "OverallCond_9            1.145896\n",
    "\n",
    "Inferences:\n",
    "- The price of house will increase by 1.11 with increase in GrLivArea\n",
    "- The price of house can increase by 1.08 times if the finishing is good\n",
    "- If house has centralised AC price-->increases by 1.08 times\n",
    "- If the Basement condition is typical then house price may hikes upto 1.06       times\n",
    "- If the Neighborhood has Crawford,Stone Breok and Northridge Heights as         Physical locations --> the price of the house may increase\n"
   ]
  },
  {
   "cell_type": "markdown",
   "id": "6b5d3318",
   "metadata": {},
   "source": [
    "### Optimal value of lambda for Ridge Regression = 9\n",
    "### Optimal value of lambda for Lasso Regression = 0.001\n"
   ]
  }
 ],
 "metadata": {
  "kernelspec": {
   "display_name": "DS",
   "language": "python",
   "name": "ds"
  },
  "language_info": {
   "codemirror_mode": {
    "name": "ipython",
    "version": 3
   },
   "file_extension": ".py",
   "mimetype": "text/x-python",
   "name": "python",
   "nbconvert_exporter": "python",
   "pygments_lexer": "ipython3",
   "version": "3.10.11"
  }
 },
 "nbformat": 4,
 "nbformat_minor": 5
}
